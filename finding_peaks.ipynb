{
 "cells": [
  {
   "cell_type": "markdown",
   "metadata": {},
   "source": [
    "# Finding Peaks function"
   ]
  },
  {
   "cell_type": "markdown",
   "metadata": {},
   "source": [
    "Notebook is for the finding local peaks in the spectrogram + finding the threshold parameter"
   ]
  },
  {
   "cell_type": "code",
   "execution_count": 2,
   "metadata": {},
   "outputs": [],
   "source": [
    "# imports\n",
    "import numpy as np\n",
    "from numba import njit"
   ]
  },
  {
   "cell_type": "code",
   "execution_count": 3,
   "metadata": {},
   "outputs": [],
   "source": [
    "# Threshold function\n",
    "def threshold_value(data_2d):\n",
    "    flattened = np.sort(np.copy(data_2d).flatten())\n",
    "    # third quartile will be an underestimate if array is not divisible by 4\n",
    "    third_quartile = len(flattened) * 3 // 4 - 1 # 75% for indexing, subtracting 1 bc index starts at 0\n",
    "    return flattened[third_quartile]"
   ]
  },
  {
   "cell_type": "code",
   "execution_count": 4,
   "metadata": {},
   "outputs": [
    {
     "data": {
      "text/plain": [
       "5"
      ]
     },
     "execution_count": 4,
     "metadata": {},
     "output_type": "execute_result"
    }
   ],
   "source": [
    "# Test runs\n",
    "\n",
    "# threshold_value(np.arange(9)[::-1].reshape(3, 3))"
   ]
  },
  {
   "cell_type": "code",
   "execution_count": 4,
   "metadata": {},
   "outputs": [],
   "source": [
    "# FROM Peak-Finding Code\n",
    "\n",
    "# _peaks function gets called from \n",
    "\n",
    "# `@njit` \"decorates\" the `_peaks` function. This tells Numba to\n",
    "# compile this function using the \"low level virtual machine\" (LLVM)\n",
    "# compiler. The resulting object is a Python function that, when called,\n",
    "# executes optimized machine code instead of the Python code\n",
    "@njit\n",
    "def _peaks(data_2d, rows, cols, amp_min):\n",
    "    \"\"\"\n",
    "    A Numba-optimized 2-D peak-finding algorithm.\n",
    "    \n",
    "    Parameters\n",
    "    ----------\n",
    "    data_2d : numpy.ndarray, shape-(H, W)\n",
    "        The 2D array of data in which local peaks will be detected.\n",
    "\n",
    "    rows : numpy.ndarray, shape-(N,)\n",
    "        The 0-centered row indices of the local neighborhood mask\n",
    "    \n",
    "    cols : numpy.ndarray, shape-(N,)\n",
    "        The 0-centered column indices of the local neighborhood mask\n",
    "        \n",
    "    amp_min : float\n",
    "        All amplitudes at and below this value are excluded from being local \n",
    "        peaks.\n",
    "    \n",
    "    Returns\n",
    "    -------\n",
    "    List[Tuple[int, int]]\n",
    "        (row, col) index pair for each local peak location. \n",
    "    \"\"\"\n",
    "    peaks = []\n",
    "    \n",
    "    # iterate over the 2-D data in col-major order\n",
    "    for c, r in np.ndindex(*data_2d.shape[::-1]):\n",
    "        if data_2d[r, c] <= amp_min:\n",
    "            continue\n",
    "\n",
    "        for dr, dc in zip(rows, cols):\n",
    "            # don't compare element (r, c) with itself\n",
    "            if dr == 0 and dc == 0:\n",
    "                continue\n",
    "\n",
    "            # mirror over array boundary\n",
    "            if not (0 <= r + dr < data_2d.shape[0]):\n",
    "                dr *= -1\n",
    "\n",
    "            # mirror over array boundary\n",
    "            if not (0 <= c + dc < data_2d.shape[1]):\n",
    "                dc *= -1\n",
    "\n",
    "            if data_2d[r, c] < data_2d[r + dr, c + dc]:\n",
    "                break\n",
    "        else:\n",
    "            peaks.append((r, c))\n",
    "    return peaks\n",
    "\n",
    "def local_peak_locations(data_2d, neighborhood, amp_min):\n",
    "    \"\"\"\n",
    "    Defines a local neighborhood and finds the local peaks\n",
    "    in the spectrogram, which must be larger than the specified `amp_min`.\n",
    "    \n",
    "    Parameters\n",
    "    ----------\n",
    "    data_2d : numpy.ndarray, shape-(H, W)\n",
    "        The 2D array of data in which local peaks will be detected\n",
    "    \n",
    "    neighborhood : numpy.ndarray, shape-(h, w)\n",
    "        A boolean mask indicating the \"neighborhood\" in which each\n",
    "        datum will be assessed to determine whether or not it is\n",
    "        a local peak. h and w must be odd-valued numbers\n",
    "        \n",
    "    amp_min : float\n",
    "        All amplitudes at and below this value are excluded from being local \n",
    "        peaks.\n",
    "    \n",
    "    Returns\n",
    "    -------\n",
    "    List[Tuple[int, int]]\n",
    "        (row, col) index pair for each local peak location.\n",
    "    \n",
    "    Notes\n",
    "    -----\n",
    "    The local peaks are returned in column-major order.\n",
    "    \"\"\"\n",
    "    rows, cols = np.where(neighborhood)\n",
    "    assert neighborhood.shape[0] % 2 == 1\n",
    "    assert neighborhood.shape[1] % 2 == 1\n",
    "\n",
    "    # center neighborhood indices around center of neighborhood\n",
    "    rows -= neighborhood.shape[0] // 2\n",
    "    cols -= neighborhood.shape[1] // 2\n",
    "    \n",
    "    return _peaks(data_2d, rows, cols, amp_min=amp_min)"
   ]
  },
  {
   "cell_type": "code",
   "execution_count": null,
   "metadata": {},
   "outputs": [],
   "source": []
  }
 ],
 "metadata": {
  "kernelspec": {
   "display_name": "Python 3.7.4 64-bit ('base': conda)",
   "language": "python",
   "name": "python37464bitbaseconda1239f0c11a42469bbeae46be1c49a6af"
  },
  "language_info": {
   "codemirror_mode": {
    "name": "ipython",
    "version": 3
   },
   "file_extension": ".py",
   "mimetype": "text/x-python",
   "name": "python",
   "nbconvert_exporter": "python",
   "pygments_lexer": "ipython3",
   "version": "3.7.4"
  }
 },
 "nbformat": 4,
 "nbformat_minor": 2
}
